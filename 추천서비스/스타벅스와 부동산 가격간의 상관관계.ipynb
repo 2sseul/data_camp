{
 "cells": [
  {
   "cell_type": "code",
   "execution_count": 1,
   "id": "5a5d1995-b9d3-4013-8c8f-b2a4ad102258",
   "metadata": {},
   "outputs": [],
   "source": [
    "from math import radians, cos, sin, asin, sqrt\n",
    "\n",
    "def haversine(lat1, lon1, lat2, lon2):\n",
    "    # 위도 경도 → 라디안 변환\n",
    "    lat1, lon1, lat2, lon2 = map(radians, [lat1, lon1, lat2, lon2])\n",
    "    \n",
    "    dlat = lat2 - lat1 \n",
    "    dlon = lon2 - lon1 \n",
    "    a = sin(dlat / 2)**2 + cos(lat1) * cos(lat2) * sin(dlon / 2)**2\n",
    "    c = 2 * asin(sqrt(a)) \n",
    "    r = 6371  # 지구 반지름 (km)\n",
    "    return c * r"
   ]
  },
  {
   "cell_type": "code",
   "execution_count": 3,
   "id": "d178ac8b-ca45-490c-9ced-11b2b815e74d",
   "metadata": {},
   "outputs": [],
   "source": [
    "import pandas as pd\n",
    "\n",
    "df_office = pd.read_csv('오피스텔_리스트.csv', encoding='utf-8')\n",
    "df_apart = pd.read_csv('아파트_리스트.csv', encoding='utf-8')\n",
    "df_starbucks = pd.read_csv('스타벅스_리스트_위도경도.csv', encoding='utf-8')\n",
    "\n",
    "def find_nearest_starbucks(lat, lon, df_starbucks):\n",
    "    distances = df_starbucks.apply(\n",
    "        lambda row: haversine(lat, lon, row['위도'], row['경도']),\n",
    "        axis=1\n",
    "    )\n",
    "    return distances.min()\n",
    "\n",
    "# 각 아파트에 가장 가까운 스타벅스 거리 계산\n",
    "df_apart['스타벅스_거리_km'] = df_apart.apply(\n",
    "    lambda row: find_nearest_starbucks(row['위도'], row['경도'], df_starbucks),\n",
    "    axis=1\n",
    ")\n",
    "\n",
    "# 오피스텔도 동일하게\n",
    "df_office['스타벅스_거리_km'] = df_office.apply(\n",
    "    lambda row: find_nearest_starbucks(row['위도'], row['경도'], df_starbucks),\n",
    "    axis=1\n",
    ")"
   ]
  },
  {
   "cell_type": "code",
   "execution_count": 7,
   "id": "2aee75e6-c1a0-46ac-9c7a-bbe838b139f4",
   "metadata": {},
   "outputs": [],
   "source": [
    "df_office = df_office[['단지명', '스타벅스_거리_km']]"
   ]
  },
  {
   "cell_type": "code",
   "execution_count": 6,
   "id": "54035885-3673-4e03-a940-f532d831076e",
   "metadata": {},
   "outputs": [],
   "source": [
    "df_apart = df_apart[['단지명', '스타벅스_거리_km']]"
   ]
  },
  {
   "cell_type": "code",
   "execution_count": 8,
   "id": "6766d2de-a1ca-41b6-a429-d345a340efda",
   "metadata": {},
   "outputs": [],
   "source": [
    "apart = pd.read_csv('아파트.csv', encoding='utf-8')\n",
    "office = pd.read_csv('오피스텔.csv', encoding='utf-8')\n",
    "\n",
    "apart_df = apart.merge(df_apart, on=\"단지명\", how=\"left\")\n",
    "office_df = office.merge(df_apart, on=\"단지명\", how=\"left\")"
   ]
  },
  {
   "cell_type": "code",
   "execution_count": 10,
   "id": "275f721c-fdf5-420a-84c6-5f6d0cbd6451",
   "metadata": {},
   "outputs": [
    {
     "name": "stdout",
     "output_type": "stream",
     "text": [
      "아파트 스타벅스 거리 ↔ 평당가격 상관계수: -0.082\n"
     ]
    }
   ],
   "source": [
    "# 아파트\n",
    "correlation = apart_df[['스타벅스_거리_km', '평당가격']].corr().iloc[0, 1]\n",
    "print(f\"아파트 스타벅스 거리 ↔ 평당가격 상관계수: {correlation:.3f}\")"
   ]
  },
  {
   "cell_type": "code",
   "execution_count": 11,
   "id": "a9041b7f-f939-43d3-bf61-b08d7f266ad1",
   "metadata": {},
   "outputs": [
    {
     "name": "stdout",
     "output_type": "stream",
     "text": [
      "아파트 스타벅스 거리 ↔ 평당가격 상관계수: 0.230\n"
     ]
    }
   ],
   "source": [
    "# 오피스텔\n",
    "correlation = office_df[['스타벅스_거리_km', '평당가격']].corr().iloc[0, 1]\n",
    "print(f\"아파트 스타벅스 거리 ↔ 평당가격 상관계수: {correlation:.3f}\")"
   ]
  },
  {
   "cell_type": "code",
   "execution_count": 14,
   "id": "5ad0a686-1b43-4e0c-aa80-9774d907da05",
   "metadata": {},
   "outputs": [
    {
     "data": {
      "text/plain": [
       "<Axes: xlabel='거리구간', ylabel='평당가격'>"
      ]
     },
     "execution_count": 14,
     "metadata": {},
     "output_type": "execute_result"
    },
    {
     "name": "stderr",
     "output_type": "stream",
     "text": [
      "/opt/anaconda3/envs/sseul2/lib/python3.8/site-packages/IPython/core/events.py:89: UserWarning: Glyph 44144 (\\N{HANGUL SYLLABLE GEO}) missing from current font.\n",
      "  func(*args, **kwargs)\n",
      "/opt/anaconda3/envs/sseul2/lib/python3.8/site-packages/IPython/core/events.py:89: UserWarning: Glyph 47532 (\\N{HANGUL SYLLABLE RI}) missing from current font.\n",
      "  func(*args, **kwargs)\n",
      "/opt/anaconda3/envs/sseul2/lib/python3.8/site-packages/IPython/core/events.py:89: UserWarning: Glyph 44396 (\\N{HANGUL SYLLABLE GU}) missing from current font.\n",
      "  func(*args, **kwargs)\n",
      "/opt/anaconda3/envs/sseul2/lib/python3.8/site-packages/IPython/core/events.py:89: UserWarning: Glyph 44036 (\\N{HANGUL SYLLABLE GAN}) missing from current font.\n",
      "  func(*args, **kwargs)\n",
      "/opt/anaconda3/envs/sseul2/lib/python3.8/site-packages/IPython/core/events.py:89: UserWarning: Glyph 54217 (\\N{HANGUL SYLLABLE PYEONG}) missing from current font.\n",
      "  func(*args, **kwargs)\n",
      "/opt/anaconda3/envs/sseul2/lib/python3.8/site-packages/IPython/core/events.py:89: UserWarning: Glyph 45817 (\\N{HANGUL SYLLABLE DANG}) missing from current font.\n",
      "  func(*args, **kwargs)\n",
      "/opt/anaconda3/envs/sseul2/lib/python3.8/site-packages/IPython/core/events.py:89: UserWarning: Glyph 44032 (\\N{HANGUL SYLLABLE GA}) missing from current font.\n",
      "  func(*args, **kwargs)\n",
      "/opt/anaconda3/envs/sseul2/lib/python3.8/site-packages/IPython/core/events.py:89: UserWarning: Glyph 44201 (\\N{HANGUL SYLLABLE GYEOG}) missing from current font.\n",
      "  func(*args, **kwargs)\n",
      "/opt/anaconda3/envs/sseul2/lib/python3.8/site-packages/IPython/core/pylabtools.py:152: UserWarning: Glyph 44144 (\\N{HANGUL SYLLABLE GEO}) missing from current font.\n",
      "  fig.canvas.print_figure(bytes_io, **kw)\n",
      "/opt/anaconda3/envs/sseul2/lib/python3.8/site-packages/IPython/core/pylabtools.py:152: UserWarning: Glyph 47532 (\\N{HANGUL SYLLABLE RI}) missing from current font.\n",
      "  fig.canvas.print_figure(bytes_io, **kw)\n",
      "/opt/anaconda3/envs/sseul2/lib/python3.8/site-packages/IPython/core/pylabtools.py:152: UserWarning: Glyph 44396 (\\N{HANGUL SYLLABLE GU}) missing from current font.\n",
      "  fig.canvas.print_figure(bytes_io, **kw)\n",
      "/opt/anaconda3/envs/sseul2/lib/python3.8/site-packages/IPython/core/pylabtools.py:152: UserWarning: Glyph 44036 (\\N{HANGUL SYLLABLE GAN}) missing from current font.\n",
      "  fig.canvas.print_figure(bytes_io, **kw)\n",
      "/opt/anaconda3/envs/sseul2/lib/python3.8/site-packages/IPython/core/pylabtools.py:152: UserWarning: Glyph 54217 (\\N{HANGUL SYLLABLE PYEONG}) missing from current font.\n",
      "  fig.canvas.print_figure(bytes_io, **kw)\n",
      "/opt/anaconda3/envs/sseul2/lib/python3.8/site-packages/IPython/core/pylabtools.py:152: UserWarning: Glyph 45817 (\\N{HANGUL SYLLABLE DANG}) missing from current font.\n",
      "  fig.canvas.print_figure(bytes_io, **kw)\n",
      "/opt/anaconda3/envs/sseul2/lib/python3.8/site-packages/IPython/core/pylabtools.py:152: UserWarning: Glyph 44032 (\\N{HANGUL SYLLABLE GA}) missing from current font.\n",
      "  fig.canvas.print_figure(bytes_io, **kw)\n",
      "/opt/anaconda3/envs/sseul2/lib/python3.8/site-packages/IPython/core/pylabtools.py:152: UserWarning: Glyph 44201 (\\N{HANGUL SYLLABLE GYEOG}) missing from current font.\n",
      "  fig.canvas.print_figure(bytes_io, **kw)\n"
     ]
    },
    {
     "data": {
      "image/png": "[encoded data removed]",
      "text/plain": [
       "<Figure size 640x480 with 1 Axes>"
      ]
     },
     "metadata": {},
     "output_type": "display_data"
    }
   ],
   "source": [
    "import seaborn as sns\n",
    "import matplotlib.pyplot as plt\n",
    "\n",
    "apart_df['거리구간'] = pd.cut(apart_df['스타벅스_거리_km'],\n",
    "                         bins=[0, 0.5, 1, 2, 5, 100],\n",
    "                         labels=[\"0.5km↓\", \"0.5~1km\", \"1~2km\", \"2~5km\", \"5km↑\"])\n",
    "sns.boxplot(data=apart_df, x='거리구간', y='평당가격')"
   ]
  },
  {
   "cell_type": "code",
   "execution_count": null,
   "id": "70289255-ba32-44a0-a3ec-d988127a1ccb",
   "metadata": {},
   "outputs": [],
   "source": []
  }
 ],
 "metadata": {
  "kernelspec": {
   "display_name": "Python 3 (ipykernel)",
   "language": "python",
   "name": "python3"
  },
  "language_info": {
   "codemirror_mode": {
    "name": "ipython",
    "version": 3
   },
   "file_extension": ".py",
   "mimetype": "text/x-python",
   "name": "python",
   "nbconvert_exporter": "python",
   "pygments_lexer": "ipython3",
   "version": "3.8.19"
  }
 },
 "nbformat": 4,
 "nbformat_minor": 5
}
